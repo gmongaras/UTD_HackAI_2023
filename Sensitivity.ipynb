{
 "cells": [
  {
   "cell_type": "code",
   "execution_count": 71,
   "id": "216030ff-b449-4fdd-b3f9-622b7fde331b",
   "metadata": {
    "tags": []
   },
   "outputs": [],
   "source": [
    "import torch\n",
    "from MLP.MLP import MLP\n",
    "import numpy as np"
   ]
  },
  {
   "cell_type": "code",
   "execution_count": 5,
   "id": "b6f87681-57d2-433d-a451-b551d4b9538a",
   "metadata": {
    "tags": []
   },
   "outputs": [],
   "source": [
    "# Load in the data\n",
    "data = torch.load(\"data/data_tens.pt\")"
   ]
  },
  {
   "cell_type": "code",
   "execution_count": 6,
   "id": "1f129cbc-9256-49f8-b40e-36d8ddff62d9",
   "metadata": {
    "tags": []
   },
   "outputs": [
    {
     "data": {
      "text/plain": [
       "MLP(\n",
       "  (layers): Sequential(\n",
       "    (0): Linear(in_features=24, out_features=1024, bias=True)\n",
       "    (1): ReLU()\n",
       "    (2): Dropout(p=0.5, inplace=False)\n",
       "    (3): Linear(in_features=1024, out_features=1024, bias=True)\n",
       "    (4): ReLU()\n",
       "    (5): Dropout(p=0.5, inplace=False)\n",
       "    (6): Linear(in_features=1024, out_features=256, bias=True)\n",
       "    (7): ReLU()\n",
       "    (8): Dropout(p=0.5, inplace=False)\n",
       "    (9): Linear(in_features=256, out_features=256, bias=True)\n",
       "    (10): ReLU()\n",
       "    (11): Dropout(p=0.5, inplace=False)\n",
       "    (12): Linear(in_features=256, out_features=64, bias=True)\n",
       "    (13): ReLU()\n",
       "    (14): Dropout(p=0.5, inplace=False)\n",
       "    (15): Linear(in_features=64, out_features=1, bias=True)\n",
       "    (16): Sigmoid()\n",
       "  )\n",
       ")"
      ]
     },
     "execution_count": 6,
     "metadata": {},
     "output_type": "execute_result"
    }
   ],
   "source": [
    "# Load in the MLP\n",
    "model = MLP()\n",
    "model.load_state_dict(torch.load(\"MLP/model.pt\"))\n",
    "model.eval()"
   ]
  },
  {
   "cell_type": "code",
   "execution_count": 7,
   "id": "ee0de2d0-cdef-4f17-a1f6-aff70cf3b1e4",
   "metadata": {
    "tags": []
   },
   "outputs": [],
   "source": [
    "# Column 17 is important for the mean, the rest can be 0s due to one-hot\n",
    "data_Past_Accidents = data[:, 17].mean()"
   ]
  },
  {
   "cell_type": "code",
   "execution_count": null,
   "id": "4f160bd7-a11a-4c29-bc4b-9a0fc32f1de0",
   "metadata": {},
   "outputs": [],
   "source": []
  },
  {
   "cell_type": "code",
   "execution_count": null,
   "id": "ffcdf6eb-4837-4a15-8f0d-885b273fb108",
   "metadata": {},
   "outputs": [],
   "source": []
  },
  {
   "cell_type": "code",
   "execution_count": null,
   "id": "ad39b733-009b-465c-bc7f-2195484d9132",
   "metadata": {},
   "outputs": [],
   "source": []
  },
  {
   "cell_type": "code",
   "execution_count": 9,
   "id": "a8d0eff4-a9eb-450b-b7ae-9df50f3f06bd",
   "metadata": {
    "tags": []
   },
   "outputs": [],
   "source": [
    "# Base Variables\n",
    "Age = torch.tensor([0, 0, 0, 0])\n",
    "Income = torch.tensor([0, 0, 0, 0])\n",
    "Gender = torch.tensor([0, 0])\n",
    "Married = torch.tensor([0, 0])\n",
    "Education = torch.tensor([0, 0, 0, 0, 0])\n",
    "Past_Accidents = torch.tensor([data_Past_Accidents])\n",
    "Has_Children = torch.tensor([0, 0])\n",
    "Has_Sports_Car = torch.tensor([0, 0])\n",
    "Vehicle_Year = torch.tensor([0, 0])\n",
    "Claimed = torch.tensor([0, 0])"
   ]
  },
  {
   "cell_type": "code",
   "execution_count": 27,
   "id": "1bf01242-de31-4c82-93ac-5ba42cd35629",
   "metadata": {
    "tags": []
   },
   "outputs": [],
   "source": [
    "base_vec = torch.cat((Age, Income, Gender, Married, Education, Past_Accidents,\n",
    "                      Has_Children, Has_Sports_Car, Vehicle_Year, Claimed), axis=-1).float()\n",
    "base_vec_X = base_vec[:-2]\n",
    "base_vec_y = base_vec[-2:]"
   ]
  },
  {
   "cell_type": "code",
   "execution_count": null,
   "id": "f9abdbc1-086e-44cd-9151-4aff05e80509",
   "metadata": {},
   "outputs": [],
   "source": []
  },
  {
   "cell_type": "code",
   "execution_count": null,
   "id": "08c9cbab-12dc-4c4a-806a-3454a155ed9b",
   "metadata": {},
   "outputs": [],
   "source": []
  },
  {
   "cell_type": "code",
   "execution_count": null,
   "id": "c94f1462-c231-40c6-8690-8ffbb2d1423e",
   "metadata": {},
   "outputs": [],
   "source": []
  },
  {
   "cell_type": "code",
   "execution_count": 28,
   "id": "73062f7b-6cce-4fca-9aa2-fe05f5527ca3",
   "metadata": {
    "tags": []
   },
   "outputs": [],
   "source": [
    "# Age sensitivity\n",
    "age_base = model(base_vec_X)\n",
    "age1 = base_vec_X.clone()\n",
    "age1[0] = 1\n",
    "age1 = model(age1)\n",
    "age2 = base_vec_X.clone()\n",
    "age2[1] = 1\n",
    "age2 = model(age2)\n",
    "age3 = base_vec_X.clone()\n",
    "age3[2] = 1\n",
    "age3 = model(age3)\n",
    "age4 = base_vec_X.clone()\n",
    "age4[3] = 1\n",
    "age4 = model(age4)"
   ]
  },
  {
   "cell_type": "code",
   "execution_count": 39,
   "id": "2f4980a2-0ffa-48be-9875-cf9decbf7991",
   "metadata": {
    "tags": []
   },
   "outputs": [],
   "source": [
    "# Income sensitivity\n",
    "income_base = model(base_vec_X)\n",
    "income1 = base_vec_X.clone()\n",
    "income1[4] = 1\n",
    "income1 = model(income1)\n",
    "income2 = base_vec_X.clone()\n",
    "income2[5] = 1\n",
    "income2 = model(income2)\n",
    "income3 = base_vec_X.clone()\n",
    "income3[6] = 1\n",
    "income3 = model(income3)\n",
    "income4 = base_vec_X.clone()\n",
    "income4[7] = 1\n",
    "income4 = model(income4)"
   ]
  },
  {
   "cell_type": "code",
   "execution_count": 50,
   "id": "94c35618-77e6-481c-a7e8-65da29afa97d",
   "metadata": {
    "tags": []
   },
   "outputs": [],
   "source": [
    "# Gender sensitivity\n",
    "gender_base = model(base_vec_X)\n",
    "gender1 = base_vec_X.clone()\n",
    "gender1[8] = 1\n",
    "gender1 = model(gender1)\n",
    "gender2 = base_vec_X.clone()\n",
    "gender2[9] = 1\n",
    "gender2 = model(gender2)"
   ]
  },
  {
   "cell_type": "code",
   "execution_count": 55,
   "id": "9089d800-7a78-45ff-92f7-943faf9053c3",
   "metadata": {
    "tags": []
   },
   "outputs": [],
   "source": [
    "# Married sensitivity\n",
    "married_base = model(base_vec_X)\n",
    "married1 = base_vec_X.clone()\n",
    "married1[10] = 1\n",
    "married1 = model(married1)\n",
    "married2 = base_vec_X.clone()\n",
    "married2[11] = 1\n",
    "married2 = model(married2)"
   ]
  },
  {
   "cell_type": "code",
   "execution_count": 63,
   "id": "c90769c6-93db-41e2-a0e4-7b377033ac8c",
   "metadata": {
    "tags": []
   },
   "outputs": [],
   "source": [
    "# Education sensitivity\n",
    "education_base = model(base_vec_X)\n",
    "education1 = base_vec_X.clone()\n",
    "education1[12] = 1\n",
    "education1 = model(education1)\n",
    "education2 = base_vec_X.clone()\n",
    "education2[13] = 1\n",
    "education2 = model(education2)\n",
    "education3 = base_vec_X.clone()\n",
    "education3[14] = 1\n",
    "education3 = model(education3)\n",
    "education4 = base_vec_X.clone()\n",
    "education4[15] = 1\n",
    "education4 = model(education4)\n",
    "education5 = base_vec_X.clone()\n",
    "education5[16] = 1\n",
    "education5 = model(education5)"
   ]
  },
  {
   "cell_type": "code",
   "execution_count": 87,
   "id": "12ea759b-0ed5-427e-8328-31c5434713db",
   "metadata": {
    "tags": []
   },
   "outputs": [],
   "source": [
    "# Past_Accidents sensitivity\n",
    "past_accidents_base = model(base_vec_X)\n",
    "past_accidents1 = base_vec_X.clone()\n",
    "past_accidents1[17] = np.quantile(data[:, 17].numpy(), 0.5)\n",
    "past_accidents1 = model(past_accidents1)\n",
    "past_accidents2 = base_vec_X.clone()\n",
    "past_accidents2[17] = np.quantile(data[:, 17].numpy(), 0.75)\n",
    "past_accidents2 = model(past_accidents2)\n",
    "past_accidents3 = base_vec_X.clone()\n",
    "past_accidents3[17] = 7/15\n",
    "past_accidents3 = model(past_accidents3)\n",
    "past_accidents4 = base_vec_X.clone()\n",
    "past_accidents4[17] = np.quantile(data[:, 17].numpy(), 1.0)\n",
    "past_accidents4 = model(past_accidents4)"
   ]
  },
  {
   "cell_type": "code",
   "execution_count": 92,
   "id": "47fc8bcc-ed51-4c8b-ace7-5b47dd521300",
   "metadata": {
    "tags": []
   },
   "outputs": [],
   "source": [
    "# Has_Children sensitivity\n",
    "has_children_base = model(base_vec_X)\n",
    "has_children1 = base_vec_X.clone()\n",
    "has_children1[18] = 1\n",
    "has_children1 = model(has_children1)\n",
    "has_children2 = base_vec_X.clone()\n",
    "has_children2[19] = 1\n",
    "has_children2 = model(has_children2)"
   ]
  },
  {
   "cell_type": "code",
   "execution_count": 96,
   "id": "9f6cd1a2-47cd-4614-8fca-08f0d6b02318",
   "metadata": {
    "tags": []
   },
   "outputs": [],
   "source": [
    "# Has_Sports_Car sensitivity\n",
    "has_sports_car_base = model(base_vec_X)\n",
    "has_sports_car1 = base_vec_X.clone()\n",
    "has_sports_car1[20] = 1\n",
    "has_sports_car1 = model(has_sports_car1)\n",
    "has_sports_car2 = base_vec_X.clone()\n",
    "has_sports_car2[21] = 1\n",
    "has_sports_car2 = model(has_sports_car2)"
   ]
  },
  {
   "cell_type": "code",
   "execution_count": 100,
   "id": "cf1fccb1-3319-4b67-b85e-2efe49fa4dcf",
   "metadata": {
    "tags": []
   },
   "outputs": [],
   "source": [
    "# Vehicle_Year sensitivity\n",
    "vehicle_year_base = model(base_vec_X)\n",
    "vehicle_year1 = base_vec_X.clone()\n",
    "vehicle_year1[22] = 1\n",
    "vehicle_year1 = model(vehicle_year1)\n",
    "vehicle_year2 = base_vec_X.clone()\n",
    "vehicle_year2[23] = 1\n",
    "vehicle_year2 = model(vehicle_year2)"
   ]
  },
  {
   "cell_type": "code",
   "execution_count": null,
   "id": "244e43f2-cfad-4cef-9659-ae6120ae21bb",
   "metadata": {},
   "outputs": [],
   "source": []
  }
 ],
 "metadata": {
  "kernelspec": {
   "display_name": "Python 3 (ipykernel)",
   "language": "python",
   "name": "python3"
  },
  "language_info": {
   "codemirror_mode": {
    "name": "ipython",
    "version": 3
   },
   "file_extension": ".py",
   "mimetype": "text/x-python",
   "name": "python",
   "nbconvert_exporter": "python",
   "pygments_lexer": "ipython3",
   "version": "3.10.10"
  }
 },
 "nbformat": 4,
 "nbformat_minor": 5
}
