{
 "cells": [
  {
   "cell_type": "code",
   "execution_count": 125,
   "id": "b2eade0c-1be5-4a0d-896b-97cec9deb607",
   "metadata": {
    "tags": []
   },
   "outputs": [],
   "source": [
    "import pandas as pd\n",
    "import numpy as np\n",
    "import torch"
   ]
  },
  {
   "cell_type": "code",
   "execution_count": 2,
   "id": "696997a2-eabe-419e-9081-5c35ae3bc71a",
   "metadata": {
    "tags": []
   },
   "outputs": [],
   "source": [
    "# Load in the CSV file\n",
    "data = pd.read_csv(\"data_clean.csv\")"
   ]
  },
  {
   "cell_type": "code",
   "execution_count": 3,
   "id": "aac69376-72f7-44e1-a680-c9b23f32efcf",
   "metadata": {
    "tags": []
   },
   "outputs": [
    {
     "data": {
      "text/plain": [
       "Index(['Age', 'Income', 'Gender', 'Married', 'Education', 'Past_Accidents',\n",
       "       'Has_Children', 'Has_Sports_Car', 'Vehicle_Year', 'Claimed'],\n",
       "      dtype='object')"
      ]
     },
     "execution_count": 3,
     "metadata": {},
     "output_type": "execute_result"
    }
   ],
   "source": [
    "data.columns"
   ]
  },
  {
   "cell_type": "code",
   "execution_count": 19,
   "id": "b2816c87-8998-4a97-8dee-d8e03e04b1ad",
   "metadata": {
    "tags": []
   },
   "outputs": [
    {
     "data": {
      "text/plain": [
       "array([False,  True])"
      ]
     },
     "execution_count": 19,
     "metadata": {},
     "output_type": "execute_result"
    }
   ],
   "source": [
    "data[\"Claimed\"].unique()"
   ]
  },
  {
   "cell_type": "markdown",
   "id": "3e35482b-11a2-44cd-8643-ee189acf698a",
   "metadata": {},
   "source": [
    "### Possible values:\n",
    "- Age - \"16-25\"/\"26-39\"/\"40-64\"/\"65+\"\n",
    "- Income - \"none\"/\"poverty\"/\"working class\"/\"middle class\"/\"upper class\"\n",
    "- Gender - \"F\"/\"M\"\n",
    "- Married - \"False\"/\"True\"\n",
    "- Education - \"NA\"/\"HS\"/\"B\"/\"M\"/PHD\"\n",
    "- Past_Accidents - Int/15\n",
    "- Has_Children - bool\n",
    "- Has_Sports_Car - bool\n",
    "- Vehicle_Year - \"before 2015\"/\"after 2015\"/\"none\"\n",
    "- Claimed - bool"
   ]
  },
  {
   "cell_type": "code",
   "execution_count": 6,
   "id": "e1d14d04-20e7-4450-a2d5-6c0ba7472be2",
   "metadata": {
    "tags": []
   },
   "outputs": [
    {
     "name": "stderr",
     "output_type": "stream",
     "text": [
      "C:\\Users\\gabri\\AppData\\Local\\Temp\\ipykernel_41620\\861299627.py:2: SettingWithCopyWarning: \n",
      "A value is trying to be set on a copy of a slice from a DataFrame\n",
      "\n",
      "See the caveats in the documentation: https://pandas.pydata.org/pandas-docs/stable/user_guide/indexing.html#returning-a-view-versus-a-copy\n",
      "  data[\"Education\"][data[\"Education\"].isnull()] = \"NA\"\n"
     ]
    }
   ],
   "source": [
    "# Convert stupid nans to NA\n",
    "data[\"Education\"][data[\"Education\"].isnull()] = \"NA\""
   ]
  },
  {
   "cell_type": "code",
   "execution_count": 20,
   "id": "562d6173-1351-477f-bcc4-2072df5c1590",
   "metadata": {
    "tags": []
   },
   "outputs": [],
   "source": [
    "# Convert columns to the correct data type\n",
    "data[\"Age\"] = data[\"Age\"].astype(str)\n",
    "data[\"Income\"] = data[\"Income\"].astype(str)\n",
    "data[\"Gender\"] = data[\"Gender\"].astype(str)\n",
    "data[\"Married\"] = data[\"Married\"].astype(bool)\n",
    "data[\"Education\"] = data[\"Education\"].astype(str)\n",
    "data[\"Past_Accidents\"] = data[\"Past_Accidents\"].astype(int)\n",
    "data[\"Has_Children\"] = data[\"Has_Children\"].astype(bool)\n",
    "data[\"Has_Sports_Car\"] = data[\"Has_Sports_Car\"].astype(bool)\n",
    "data[\"Vehicle_Year\"] = data[\"Vehicle_Year\"].astype(str)\n",
    "data[\"Claimed\"] = data[\"Claimed\"].astype(bool)"
   ]
  },
  {
   "cell_type": "code",
   "execution_count": null,
   "id": "7f95126d-478f-402e-b46c-d1175bc325bd",
   "metadata": {},
   "outputs": [],
   "source": []
  },
  {
   "cell_type": "code",
   "execution_count": null,
   "id": "47bb27b1-0d11-46f8-9d27-795df58bdaec",
   "metadata": {},
   "outputs": [],
   "source": []
  },
  {
   "cell_type": "code",
   "execution_count": 32,
   "id": "0476ce24-fb6a-4ea4-9116-d522e14768e6",
   "metadata": {
    "tags": []
   },
   "outputs": [],
   "source": [
    "Age = data[\"Age\"].values\n",
    "Income = data[\"Income\"].values\n",
    "Gender = data[\"Gender\"].values\n",
    "Married = data[\"Married\"].values\n",
    "Education = data[\"Education\"].values\n",
    "Past_Accidents = data[\"Past_Accidents\"].values\n",
    "Has_Children = data[\"Has_Children\"].values\n",
    "Has_Sports_Car = data[\"Has_Sports_Car\"].values\n",
    "Vehicle_Year = data[\"Vehicle_Year\"].values\n",
    "Claimed = data[\"Claimed\"].values"
   ]
  },
  {
   "cell_type": "code",
   "execution_count": null,
   "id": "e9c83443-7452-49e2-b2c8-f7a905f3bc49",
   "metadata": {},
   "outputs": [],
   "source": []
  },
  {
   "cell_type": "code",
   "execution_count": null,
   "id": "36370856-a1a3-4f08-a66d-6f04b8f2fae8",
   "metadata": {},
   "outputs": [],
   "source": []
  },
  {
   "cell_type": "code",
   "execution_count": null,
   "id": "ebffedd5-bb4b-4213-93d9-cea182980cc6",
   "metadata": {},
   "outputs": [],
   "source": []
  },
  {
   "cell_type": "code",
   "execution_count": 48,
   "id": "30ccd55e-7fb9-4b15-a24d-8000136fa2b2",
   "metadata": {
    "tags": []
   },
   "outputs": [],
   "source": [
    "def one_hot(map_, v):\n",
    "    v = np.array([map_[i] for i in v])\n",
    "    v_ = np.zeros((v.size, v.max() + 1))\n",
    "    v_[np.arange(v.size), v] = 1\n",
    "    return v_"
   ]
  },
  {
   "cell_type": "code",
   "execution_count": null,
   "id": "784e3ba8-a525-4833-8d77-0450f1529f04",
   "metadata": {},
   "outputs": [],
   "source": []
  },
  {
   "cell_type": "code",
   "execution_count": 56,
   "id": "6f40347d-422a-4ce2-a98d-4f2678c39760",
   "metadata": {
    "tags": []
   },
   "outputs": [],
   "source": [
    "# one-hot age\n",
    "map_ = {\"16-25\":0, \"26-39\":1, \"40-64\":2, \"65+\":3}\n",
    "Age_oh = one_hot(map_, Age)"
   ]
  },
  {
   "cell_type": "code",
   "execution_count": 57,
   "id": "c9794c74-f14c-498e-b246-fc39aa643cd9",
   "metadata": {
    "tags": []
   },
   "outputs": [],
   "source": [
    "# one-hot income\n",
    "map_ = {\"poverty\":0, \"working class\":1, \"middle class\":2, \"upper class\":3, \"none\":4}\n",
    "Income_oh = one_hot(map_, Income)\n",
    "Income_oh[Income_oh[:, -1] == 1] *= 0\n",
    "Income_oh = Income_oh[:, :-1]"
   ]
  },
  {
   "cell_type": "code",
   "execution_count": 59,
   "id": "17562bf4-d585-4393-b0e7-cc7f696465e5",
   "metadata": {
    "tags": []
   },
   "outputs": [],
   "source": [
    "# one-hot gender\n",
    "map_ = {\"F\":0, \"M\":1}\n",
    "Gender_oh = one_hot(map_, Gender)"
   ]
  },
  {
   "cell_type": "code",
   "execution_count": 62,
   "id": "6771008a-2dd0-4f31-b297-4cbf5bc8953e",
   "metadata": {
    "tags": []
   },
   "outputs": [],
   "source": [
    "# one-hot Married\n",
    "map_ = {False:0, True:1}\n",
    "Married_oh = one_hot(map_, Married)"
   ]
  },
  {
   "cell_type": "code",
   "execution_count": 64,
   "id": "9b6b1e1d-24d7-4ff3-a7ab-a1bb70bcab7b",
   "metadata": {
    "tags": []
   },
   "outputs": [],
   "source": [
    "# one-hot education\n",
    "map_ = {\"NA\":0, \"HS\":1, \"B\":2, \"M\":3, \"PHD\":4}\n",
    "Education_oh = one_hot(map_, Education)"
   ]
  },
  {
   "cell_type": "code",
   "execution_count": 66,
   "id": "9b8ead32-8dfb-4fd5-8873-8c3f3de39eda",
   "metadata": {
    "tags": []
   },
   "outputs": [],
   "source": [
    "# Scale the accidents by 15 and make it a float\n",
    "Past_Accidents = Past_Accidents.astype(float)/Past_Accidents.max()"
   ]
  },
  {
   "cell_type": "code",
   "execution_count": 69,
   "id": "d7f0d632-e146-49ff-9564-be76265936a0",
   "metadata": {
    "tags": []
   },
   "outputs": [],
   "source": [
    "# one-hot Has_Children\n",
    "map_ = {False:0, True:1}\n",
    "Has_Children_oh = one_hot(map_, Has_Children)"
   ]
  },
  {
   "cell_type": "code",
   "execution_count": 70,
   "id": "861ab9d2-aea8-4154-8a34-c0dd3c767f8c",
   "metadata": {
    "tags": []
   },
   "outputs": [],
   "source": [
    "# one-hot Has_Sports_Car\n",
    "map_ = {False:0, True:1}\n",
    "Has_Sports_Car_oh = one_hot(map_, Has_Sports_Car)"
   ]
  },
  {
   "cell_type": "code",
   "execution_count": 73,
   "id": "51fec3ae-8f99-46d3-9fc4-995460ec6324",
   "metadata": {
    "tags": []
   },
   "outputs": [],
   "source": [
    "# one-hot vehicle year\n",
    "map_ = {\"before 2015\":0, \"after 2015\":1, \"none\":2}\n",
    "Vehicle_Year_oh = one_hot(map_, Vehicle_Year)\n",
    "Vehicle_Year_oh[Vehicle_Year_oh[:, -1] == 1] *= 0\n",
    "Vehicle_Year_oh = Vehicle_Year_oh[:, :-1]"
   ]
  },
  {
   "cell_type": "code",
   "execution_count": 138,
   "id": "b2b27f19-d423-4ba5-bf31-5cdd3418c520",
   "metadata": {
    "tags": []
   },
   "outputs": [],
   "source": [
    "# one-hot claimed\n",
    "map_ = {False:0, True:1}\n",
    "Claimed_oh = one_hot(map_, Claimed)[:, -1]"
   ]
  },
  {
   "cell_type": "code",
   "execution_count": null,
   "id": "814c91c3-51f7-479b-b284-973fa2e188b1",
   "metadata": {},
   "outputs": [],
   "source": []
  },
  {
   "cell_type": "code",
   "execution_count": 89,
   "id": "f266e747-7293-474a-87eb-22df81cdcb7a",
   "metadata": {
    "tags": []
   },
   "outputs": [],
   "source": []
  },
  {
   "cell_type": "code",
   "execution_count": 142,
   "id": "98df9510-f3db-473f-87b6-e23cee2cc5b9",
   "metadata": {
    "tags": []
   },
   "outputs": [],
   "source": [
    "# Combine data into a single matrix\n",
    "out = np.concatenate((Age_oh, Income_oh, Gender_oh, Married_oh, Education_oh, np.expand_dims(Past_Accidents, -1), \n",
    "                Has_Children_oh, Has_Sports_Car_oh, Vehicle_Year_oh, np.expand_dims(Claimed_oh, -1)), axis=1)"
   ]
  },
  {
   "cell_type": "code",
   "execution_count": 143,
   "id": "5ba496db-210d-4ec2-9021-02a2dede2310",
   "metadata": {
    "tags": []
   },
   "outputs": [],
   "source": [
    "# Turn into torch tensor and save\n",
    "out = torch.tensor(out)"
   ]
  },
  {
   "cell_type": "code",
   "execution_count": 145,
   "id": "c39b66d2-f788-4318-9225-b1e4a2004444",
   "metadata": {
    "tags": []
   },
   "outputs": [],
   "source": [
    "torch.save(out, \"data_tens.pt\")"
   ]
  },
  {
   "cell_type": "code",
   "execution_count": 137,
   "id": "66d7f508-2a7a-45c3-bc44-f30502c3b447",
   "metadata": {
    "tags": []
   },
   "outputs": [
    {
     "ename": "NameError",
     "evalue": "name 'Past_Accidents_oh' is not defined",
     "output_type": "error",
     "traceback": [
      "\u001b[1;31m---------------------------------------------------------------------------\u001b[0m",
      "\u001b[1;31mNameError\u001b[0m                                 Traceback (most recent call last)",
      "Cell \u001b[1;32mIn[137], line 1\u001b[0m\n\u001b[1;32m----> 1\u001b[0m \u001b[43mPast_Accidents_oh\u001b[49m\u001b[38;5;241m.\u001b[39mshape\n",
      "\u001b[1;31mNameError\u001b[0m: name 'Past_Accidents_oh' is not defined"
     ]
    }
   ],
   "source": [
    "Past_Accidents_oh.shape"
   ]
  },
  {
   "cell_type": "code",
   "execution_count": null,
   "id": "4de5a148-aa89-4900-add5-f9f9c9feb992",
   "metadata": {},
   "outputs": [],
   "source": []
  }
 ],
 "metadata": {
  "kernelspec": {
   "display_name": "Python 3 (ipykernel)",
   "language": "python",
   "name": "python3"
  },
  "language_info": {
   "codemirror_mode": {
    "name": "ipython",
    "version": 3
   },
   "file_extension": ".py",
   "mimetype": "text/x-python",
   "name": "python",
   "nbconvert_exporter": "python",
   "pygments_lexer": "ipython3",
   "version": "3.10.10"
  }
 },
 "nbformat": 4,
 "nbformat_minor": 5
}
