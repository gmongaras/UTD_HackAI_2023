{
 "cells": [
  {
   "cell_type": "code",
   "execution_count": 1,
   "id": "2afd432f-88ba-4a6f-ae5e-f4fd74a30e12",
   "metadata": {
    "tags": []
   },
   "outputs": [],
   "source": [
    "import torch\n",
    "from MLP import MLP"
   ]
  },
  {
   "cell_type": "code",
   "execution_count": 2,
   "id": "479db302-8723-4caa-bca5-1134c7c621e8",
   "metadata": {
    "tags": []
   },
   "outputs": [
    {
     "data": {
      "text/plain": [
       "MLP(\n",
       "  (layers): Sequential(\n",
       "    (0): Linear(in_features=24, out_features=1024, bias=True)\n",
       "    (1): ReLU()\n",
       "    (2): Dropout(p=0.5, inplace=False)\n",
       "    (3): Linear(in_features=1024, out_features=1024, bias=True)\n",
       "    (4): ReLU()\n",
       "    (5): Dropout(p=0.5, inplace=False)\n",
       "    (6): Linear(in_features=1024, out_features=256, bias=True)\n",
       "    (7): ReLU()\n",
       "    (8): Dropout(p=0.5, inplace=False)\n",
       "    (9): Linear(in_features=256, out_features=256, bias=True)\n",
       "    (10): ReLU()\n",
       "    (11): Dropout(p=0.5, inplace=False)\n",
       "    (12): Linear(in_features=256, out_features=64, bias=True)\n",
       "    (13): ReLU()\n",
       "    (14): Dropout(p=0.5, inplace=False)\n",
       "    (15): Linear(in_features=64, out_features=1, bias=True)\n",
       "    (16): Sigmoid()\n",
       "  )\n",
       ")"
      ]
     },
     "execution_count": 2,
     "metadata": {},
     "output_type": "execute_result"
    }
   ],
   "source": [
    "# Load in the model\n",
    "model = MLP()\n",
    "model.load_state_dict(torch.load(\"model.pt\"))\n",
    "model.eval()"
   ]
  },
  {
   "cell_type": "code",
   "execution_count": 3,
   "id": "038b0ae3-0c94-40eb-bb82-21a196300b9b",
   "metadata": {
    "tags": []
   },
   "outputs": [],
   "source": [
    "# Load in the data\n",
    "data = torch.load(\"../data/data_tens.pt\").to(torch.float32)"
   ]
  },
  {
   "cell_type": "code",
   "execution_count": 4,
   "id": "4ab0f8af-adba-4753-bd65-2ca6ada08a19",
   "metadata": {
    "tags": []
   },
   "outputs": [],
   "source": [
    "data_X = data[:, :-1]\n",
    "data_y = data[:, -1].unsqueeze(-1)"
   ]
  },
  {
   "cell_type": "code",
   "execution_count": null,
   "id": "f8b3f4e6-12ce-4953-bbd2-bbd8393974c5",
   "metadata": {},
   "outputs": [],
   "source": []
  },
  {
   "cell_type": "code",
   "execution_count": 5,
   "id": "29a9c8c1-ffea-4a14-8d62-d3e6bed44cf6",
   "metadata": {
    "tags": []
   },
   "outputs": [
    {
     "data": {
      "text/plain": [
       "tensor([[0., 0., 0.,  ..., 0., 0., 1.],\n",
       "        [1., 0., 0.,  ..., 0., 1., 0.],\n",
       "        [1., 0., 0.,  ..., 0., 1., 0.],\n",
       "        ...,\n",
       "        [0., 0., 1.,  ..., 0., 1., 0.],\n",
       "        [0., 0., 1.,  ..., 0., 1., 0.],\n",
       "        [0., 0., 1.,  ..., 0., 1., 0.]])"
      ]
     },
     "execution_count": 5,
     "metadata": {},
     "output_type": "execute_result"
    }
   ],
   "source": [
    "data_X"
   ]
  },
  {
   "cell_type": "code",
   "execution_count": 6,
   "id": "f9fcee8f-e677-43de-a8fe-de41feca115f",
   "metadata": {
    "tags": []
   },
   "outputs": [
    {
     "data": {
      "text/plain": [
       "tensor([[0.],\n",
       "        [1.],\n",
       "        [0.],\n",
       "        ...,\n",
       "        [0.],\n",
       "        [0.],\n",
       "        [0.]])"
      ]
     },
     "execution_count": 6,
     "metadata": {},
     "output_type": "execute_result"
    }
   ],
   "source": [
    "data_y"
   ]
  },
  {
   "cell_type": "code",
   "execution_count": null,
   "id": "e5dc4bd3-2e96-44ca-9a70-14327e78ed17",
   "metadata": {},
   "outputs": [],
   "source": []
  },
  {
   "cell_type": "code",
   "execution_count": null,
   "id": "6b47eb9c-790a-4244-9169-5917283e22dc",
   "metadata": {},
   "outputs": [],
   "source": []
  },
  {
   "cell_type": "code",
   "execution_count": null,
   "id": "bb141a22-da19-41f9-b284-c5d2ce402dc6",
   "metadata": {},
   "outputs": [],
   "source": []
  },
  {
   "cell_type": "code",
   "execution_count": 7,
   "id": "f321cfb6-2854-4402-91e5-e16d6ec31fc0",
   "metadata": {
    "tags": []
   },
   "outputs": [],
   "source": [
    "# One hot mapping\n",
    "def one_hot(map_, num_cls, v):\n",
    "    if type(v) != list:\n",
    "        v = [v]\n",
    "    v = torch.tensor([map_[i] for i in v])\n",
    "    v_ = torch.zeros((v.shape[0], num_cls + 1))\n",
    "    v_[torch.arange(v.shape[0]), v] = 1\n",
    "    return v_\n",
    "\n",
    "# \n",
    "def vars_to_vec(Age, Income, Gender, Married, Education, Past_Accidents, Has_Children, Has_Sports_Car, Vehicle_Year):\n",
    "    # Age\n",
    "    if Age > 0:\n",
    "        if Age <= 25:\n",
    "            Age = \"16-25\"\n",
    "        elif Age <= 39:\n",
    "            Age = \"26-39\"\n",
    "        elif Age <= 64:\n",
    "            Age = \"40-64\"\n",
    "        else:\n",
    "            Age = \"65+\"\n",
    "    map_ = {\"16-25\":0, \"26-39\":1, \"40-64\":2, \"65+\":3, \"none\":4}\n",
    "    Age_oh = one_hot(map_, 4, Age)\n",
    "    Age_oh[Age_oh[:, -1] == 1] *= 0\n",
    "    Age = Age_oh[:, :-1]\n",
    "            \n",
    "    # Income\n",
    "    if Income >= 0:\n",
    "        if Income < 35_800:\n",
    "            Income = \"poverty\"\n",
    "        elif Income < 52_200:\n",
    "            Income = \"working class\"\n",
    "        elif Income < 156_600:\n",
    "            Income = \"middle class\"\n",
    "        else:\n",
    "            Income = \"upper class\"\n",
    "    else:\n",
    "        Income = \"none\"\n",
    "    map_ = {\"poverty\":0, \"working class\":1, \"middle class\":2, \"upper class\":3, \"none\":4}\n",
    "    Income_oh = one_hot(map_, 4, Income)\n",
    "    Income_oh[Income_oh[:, -1] == 1] *= 0\n",
    "    Income = Income_oh[:, :-1]\n",
    "    \n",
    "    # Gender\n",
    "    map_ = {\"female\":0, \"male\":1, \"NA\":2}\n",
    "    Gender_oh = one_hot(map_, 2, Gender)\n",
    "    Gender_oh[Gender_oh[:, -1] == 1] *= 0\n",
    "    Gender = Gender_oh[:, :-1]\n",
    "    \n",
    "    # Married\n",
    "    map_ = {\"False\":0, \"True\":1, \"NA\":2}\n",
    "    Married_oh = one_hot(map_, 2, Married)\n",
    "    Married_oh[Married_oh[:, -1] == 1] *= 0\n",
    "    Married = Married_oh[:, :-1]\n",
    "    \n",
    "    # Education\n",
    "    map_ = {\"NA\":0, \"HS\":1, \"B\":2, \"M\":3, \"PHD\":4}\n",
    "    Education = one_hot(map_, 4, Education)\n",
    "    \n",
    "    # Past_Accidents\n",
    "    Past_Accidents = torch.tensor([[Past_Accidents]])/15\n",
    "    \n",
    "    # Has_Children\n",
    "    map_ = {\"False\":0, \"True\":1, \"NA\":2}\n",
    "    Has_Children_oh = one_hot(map_, 2, Has_Children)\n",
    "    Has_Children_oh[Has_Children_oh[:, -1] == 1] *= 0\n",
    "    Has_Children = Has_Children_oh[:, :-1]\n",
    "    \n",
    "    # Has_Sports_Car\n",
    "    map_ = {\"False\":0, \"True\":1, \"NA\":2}\n",
    "    Has_Sports_Car_oh = one_hot(map_, 2, Has_Sports_Car)\n",
    "    Has_Sports_Car_oh[Has_Sports_Car_oh[:, -1] == 1] *= 0\n",
    "    Has_Sports_Car = Has_Sports_Car_oh[:, :-1]\n",
    "    \n",
    "    # Vehicle_Year\n",
    "    if Vehicle_Year > 2000:\n",
    "        if Vehicle_Year < 2015:\n",
    "            Vehicle_Year = \"before 2015\"\n",
    "        else:\n",
    "            Vehicle_Year = \"before 2015\"\n",
    "    else:\n",
    "        Vehicle_Year = \"none\"\n",
    "    map_ = {\"before 2015\":0, \"after 2015\":1, \"none\":2}\n",
    "    Vehicle_Year_oh = one_hot(map_, 2, Vehicle_Year)\n",
    "    Vehicle_Year_oh[Vehicle_Year_oh[:, -1] == 1] *= 0\n",
    "    Vehicle_Year = Vehicle_Year_oh[:, :-1]\n",
    "    \n",
    "    \n",
    "    return torch.cat((Age, Income, Gender, Married, Education, Past_Accidents,\n",
    "                      Has_Children, Has_Sports_Car, Vehicle_Year), axis=-1)"
   ]
  },
  {
   "cell_type": "code",
   "execution_count": null,
   "id": "ad733853-ff4f-4117-9492-3f8ce4da82bc",
   "metadata": {},
   "outputs": [],
   "source": []
  },
  {
   "cell_type": "code",
   "execution_count": null,
   "id": "5d996f80-a0f7-408a-adc4-e80e3a6b3fde",
   "metadata": {},
   "outputs": [],
   "source": []
  },
  {
   "cell_type": "code",
   "execution_count": 11,
   "id": "d7a1c32a-3ffe-4137-8d53-e07e0ac150e2",
   "metadata": {
    "tags": []
   },
   "outputs": [],
   "source": [
    "Age = 50\n",
    "Income = 100_000_000\n",
    "Gender = \"NA\"\n",
    "Married = \"True\"\n",
    "Education = \"HS\"\n",
    "Past_Accidents = 0\n",
    "Has_Children = \"True\"\n",
    "Has_Sports_Car = \"True\"\n",
    "Vehicle_Year = 2015"
   ]
  },
  {
   "cell_type": "code",
   "execution_count": 12,
   "id": "fcd1ca6c-3f18-47f4-918e-907a8cb00a2c",
   "metadata": {
    "tags": []
   },
   "outputs": [],
   "source": [
    "vec = vars_to_vec(Age, Income, Gender, Married, Education, Past_Accidents, Has_Children, Has_Sports_Car, Vehicle_Year)"
   ]
  },
  {
   "cell_type": "code",
   "execution_count": 13,
   "id": "43458241-586d-4a8b-84f0-132bdfc6cd2d",
   "metadata": {
    "tags": []
   },
   "outputs": [
    {
     "data": {
      "text/plain": [
       "tensor([[0.2456]], grad_fn=<SigmoidBackward0>)"
      ]
     },
     "execution_count": 13,
     "metadata": {},
     "output_type": "execute_result"
    }
   ],
   "source": [
    "model(vec)"
   ]
  },
  {
   "cell_type": "code",
   "execution_count": null,
   "id": "403bca14-f000-4767-ac31-c6ac65f904ca",
   "metadata": {},
   "outputs": [],
   "source": []
  }
 ],
 "metadata": {
  "kernelspec": {
   "display_name": "Python 3 (ipykernel)",
   "language": "python",
   "name": "python3"
  },
  "language_info": {
   "codemirror_mode": {
    "name": "ipython",
    "version": 3
   },
   "file_extension": ".py",
   "mimetype": "text/x-python",
   "name": "python",
   "nbconvert_exporter": "python",
   "pygments_lexer": "ipython3",
   "version": "3.10.10"
  }
 },
 "nbformat": 4,
 "nbformat_minor": 5
}
